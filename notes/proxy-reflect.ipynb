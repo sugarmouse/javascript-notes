{
 "cells": [
  {
   "cell_type": "markdown",
   "metadata": {},
   "source": [
    "## 简介\n",
    "\n",
    "### Proxy\n",
    "\n",
    "Proxy 可以用来代理一个对象，拦截对象的 [internal method](https://developer.mozilla.org/en-US/docs/Web/JavaScript/Reference/Global_Objects/Proxy#object_internal_methods)。\n",
    "\n",
    "他的构造函数接受一个 target对象 和一个 handler对象。target对象就是需要被代理的对象，而 hanlder对象 里是一系列的方法，对应 JS 的对象的 internal method。\n",
    "\n",
    "关于什么操作会触发什么样的 internal method，可以查看[ECMA-262 标准](https://ecma-international.org/publications-and-standards/standards/ecma-262/)。\n",
    "\n",
    "比如，可以看出 get 的时候会触发 `[[Get]]` 方法\n",
    "![GetMthod](./pics/GetMthod.png)"
   ]
  },
  {
   "cell_type": "markdown",
   "metadata": {},
   "source": [
    "handler 所有方法的列表：\n",
    "\n",
    "\n",
    "| `handler` 方法         | Internal method        | 触发 Internal method 的常用操作                            |\n",
    "|-----------------------|------------------------|----------------------------------------------------------|\n",
    "| `getPrototypeOf`      | [[GetPrototypeOf]]     | `Object.getPrototypeOf(proxy)`, `proxy.__proto__`         |\n",
    "| `setPrototypeOf`      | [[SetPrototypeOf]]     | `Object.setPrototypeOf(proxy, proto)`                      |\n",
    "| `isExtensible`        | [[IsExtensible]]       | `Object.isExtensible(proxy)`                               |\n",
    "| `preventExtensions`   | [[PreventExtensions]]  | `Object.preventExtensions(proxy)`                          |\n",
    "| `getOwnPropertyDescriptor` | [[GetOwnProperty]] | `Object.getOwnPropertyDescriptor(proxy, prop)`            |\n",
    "| `defineProperty`      | [[DefineOwnProperty]]  | `Object.defineProperty(proxy, prop, descriptor)`          |\n",
    "| `has`                 | [[HasProperty]]        | `key in obj`, `Reflect.has(proxy, prop)`               |\n",
    "| `get`                 | [[Get]]                | `proxy[prop]`, `Reflect.get(proxy, prop)`                 |\n",
    "| `set`                 | [[Set]]                | `proxy[prop] = value`, `Reflect.set(proxy, prop, value)`  |\n",
    "| `deleteProperty`      | [[Delete]]             | `delete proxy[prop]`, `Reflect.deleteProperty(proxy, prop)`|\n",
    "| `apply`               | [[Call]]               | `proxy()`, `Reflect.apply(proxy, thisArg, args)`          |\n",
    "| `construct`           | [[Construct]]          | `new proxy()`, `Reflect.construct(proxy, args, newTarget)`|\n",
    "| `ownKeys`             | [[OwnPropertyKeys]]    |  `Object.keys()`, `Reflect.ownKeys()`                     |"
   ]
  },
  {
   "cell_type": "markdown",
   "metadata": {},
   "source": [
    "### Reflect\n",
    "\n",
    "Reflect 是一个不可构造的对象，内置了和 Proxy handler 一一对应的静态方法。所以经常结合 Proxy 一起使用。\n",
    "\n",
    "可以简单的理解为把对 把对 receiver 调用的方法反射到 target 对象上。\n",
    "\n",
    "在写 handler 逻辑的时候，比如我们需要拦截 target 的 get 方法，对于某些不存在的 get 不是返回 undefined，而是返回一个自定义的信息。"
   ]
  },
  {
   "cell_type": "code",
   "execution_count": 21,
   "metadata": {},
   "outputs": [],
   "source": [
    "const john = {\n",
    "  name: 'John',\n",
    "  age: '18',\n",
    "};\n",
    "\n",
    "const proxyJohn = new Proxy(john, {\n",
    "  get(target, key, receiver) {\n",
    "    if (key in target) {\n",
    "      return Reflect.get(target, key, receiver);\n",
    "    }\n",
    "    return `unknown information (${key.toString()}) about john`;\n",
    "  }\n",
    "});"
   ]
  },
  {
   "cell_type": "markdown",
   "metadata": {},
   "source": [
    "通过 john 和 proxyJohn 都可以拿到 name 属性。而尝试获取 gender 属性的时候，直接对 target 对象 get gender，会直接返回一个 undefined，而通过 proxyJohn get gender 属性，则会提示 \"unknown information gender of john\"。\n",
    "\n",
    "所以在这里我们拦截的 target 对象的 get 方法，可以对 object 的 internal method 做一些自定义行为。"
   ]
  },
  {
   "cell_type": "code",
   "execution_count": null,
   "metadata": {},
   "outputs": [],
   "source": [
    "console.log(proxyJohn.name); // John\n",
    "console.log(john.name) // John\n",
    "\n",
    "console.log(proxyJohn.gender); // unknown information gender of john\n",
    "console.log(john.gender); // undefined"
   ]
  },
  {
   "cell_type": "markdown",
   "metadata": {},
   "source": [
    "## 用 Proxy 和 Reflect 可以做什么"
   ]
  },
  {
   "cell_type": "markdown",
   "metadata": {},
   "source": [
    "在前端最出名的肯定是 Vue3 的响应式数据的底层原理。\n",
    "\n",
    "通过 Proxy 拦截数据的 set 操作，在 set 之后插入渲染函数的执行，之后在对数据进行修改的时候，就会自动的调用副作用的渲染函数，达到响应式数据的效果。"
   ]
  },
  {
   "cell_type": "code",
   "execution_count": 31,
   "metadata": {},
   "outputs": [],
   "source": [
    "const data = {\n",
    "  value: \"initial val\"\n",
    "};\n",
    "\n",
    "const proxyData = new Proxy(data, {\n",
    "  get(target, key, receiver) {\n",
    "    return Reflect.get(target, key, receiver);\n",
    "  },\n",
    "  set(target, key, receiver) {\n",
    "    Reflect.set(target, key, receiver);\n",
    "    renderWithSideEffect();\n",
    "    return true;\n",
    "  }\n",
    "});\n",
    "\n",
    "function renderWithSideEffect() {\n",
    "  for (const [key, val] of Object.entries(data)) {\n",
    "    console.log(`key: ${key}, val: ${val}`);\n",
    "  }\n",
    "}"
   ]
  },
  {
   "cell_type": "code",
   "execution_count": null,
   "metadata": {},
   "outputs": [],
   "source": [
    "proxyData.value = \"set data\";\n",
    "\n",
    "// key: value, val: set data"
   ]
  },
  {
   "cell_type": "code",
   "execution_count": null,
   "metadata": {},
   "outputs": [],
   "source": [
    "proxyData[\"count\"] = 1;\n",
    "\n",
    "// key: value, val: set data\n",
    "// key: count, val: 1"
   ]
  }
 ],
 "metadata": {
  "kernelspec": {
   "display_name": "Deno",
   "language": "typescript",
   "name": "deno"
  },
  "language_info": {
   "file_extension": ".ts",
   "mimetype": "text/x.typescript",
   "name": "typescript",
   "nb_converter": "script",
   "pygments_lexer": "typescript",
   "version": "5.3.3"
  }
 },
 "nbformat": 4,
 "nbformat_minor": 2
}
